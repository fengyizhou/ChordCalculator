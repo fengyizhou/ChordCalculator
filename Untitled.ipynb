{
 "cells": [
  {
   "cell_type": "code",
   "execution_count": 1,
   "metadata": {},
   "outputs": [],
   "source": [
    "import lpd_prepare_utils as utl\n",
    "import numpy as np\n",
    "import os\n",
    "import pypianoroll as pr\n",
    "import config\n"
   ]
  },
  {
   "cell_type": "code",
   "execution_count": 6,
   "metadata": {},
   "outputs": [
    {
     "data": {
      "text/plain": [
       "array([[ 0,  2,  4,  5,  7,  9, 11],\n",
       "       [ 1,  3,  5,  6,  8, 10,  0],\n",
       "       [ 2,  4,  6,  7,  9, 11,  1],\n",
       "       [ 3,  5,  7,  8, 10,  0,  2],\n",
       "       [ 4,  6,  8,  9, 11,  1,  3],\n",
       "       [ 5,  7,  9, 10,  0,  2,  4],\n",
       "       [ 6,  8, 10, 11,  1,  3,  5],\n",
       "       [ 7,  9, 11,  0,  2,  4,  6],\n",
       "       [ 8, 10,  0,  1,  3,  5,  7],\n",
       "       [ 9, 11,  1,  2,  4,  6,  8],\n",
       "       [10,  0,  2,  3,  5,  7,  9],\n",
       "       [11,  1,  3,  4,  6,  8, 10],\n",
       "       [ 0,  2,  3,  5,  7,  8, 11],\n",
       "       [ 1,  3,  4,  6,  8,  9,  0],\n",
       "       [ 2,  4,  5,  7,  9, 10,  1],\n",
       "       [ 3,  5,  6,  8, 10, 11,  2],\n",
       "       [ 4,  6,  7,  9, 11,  0,  3],\n",
       "       [ 5,  7,  8, 10,  0,  1,  4],\n",
       "       [ 6,  8,  9, 11,  1,  2,  5],\n",
       "       [ 7,  9, 10,  0,  2,  3,  6],\n",
       "       [ 8, 10, 11,  1,  3,  4,  7],\n",
       "       [ 9, 11,  0,  2,  4,  5,  8],\n",
       "       [10,  0,  1,  3,  5,  6,  9],\n",
       "       [11,  1,  2,  4,  6,  7, 10]], dtype=int64)"
      ]
     },
     "execution_count": 6,
     "metadata": {},
     "output_type": "execute_result"
    }
   ],
   "source": [
    "config.cal_tone_mtx()"
   ]
  },
  {
   "cell_type": "code",
   "execution_count": 4,
   "metadata": {},
   "outputs": [
    {
     "data": {
      "text/plain": [
       "(24, 7)"
      ]
     },
     "execution_count": 4,
     "metadata": {},
     "output_type": "execute_result"
    }
   ],
   "source": [
    "TONE_MTX.shape"
   ]
  },
  {
   "cell_type": "code",
   "execution_count": 7,
   "metadata": {},
   "outputs": [
    {
     "data": {
      "text/plain": [
       "<function lpd_prepare_utils.get_scale_seq(data_chroma)>"
      ]
     },
     "execution_count": 7,
     "metadata": {},
     "output_type": "execute_result"
    }
   ],
   "source": [
    "utl.get_scale_seq"
   ]
  },
  {
   "cell_type": "code",
   "execution_count": 8,
   "metadata": {},
   "outputs": [],
   "source": [
    "import lpd_prepare_utils as utl\n",
    "import numpy as np\n",
    "import os\n",
    "import pypianoroll as pr\n",
    "import config\n",
    "\n"
   ]
  },
  {
   "cell_type": "code",
   "execution_count": 9,
   "metadata": {},
   "outputs": [
    {
     "name": "stdout",
     "output_type": "stream",
     "text": [
      "A\n",
      "A\\b97c529ab9ef783a849b896816001748.npz\n",
      "(5,)\n",
      "(5,)\n",
      "(5,)\n",
      "(5,)\n",
      "(5,)\n",
      "(5,)\n",
      "(5,)\n",
      "(5,)\n",
      "(5,)\n",
      "(5,)\n",
      "(5,)\n",
      "(5,)\n",
      "(5,)\n",
      "(5,)\n",
      "(5,)\n",
      "(5,)\n",
      "(5,)\n",
      "(5,)\n",
      "(5,)\n",
      "(5,)\n",
      "(5,)\n",
      "(5,)\n",
      "(5,)\n",
      "(5,)\n",
      "(5,)\n",
      "(5,)\n",
      "(5,)\n",
      "(5,)\n",
      "(5,)\n",
      "(5,)\n",
      "(5,)\n",
      "(5,)\n",
      "(5,)\n",
      "(5,)\n",
      "(5,)\n",
      "(5,)\n",
      "(5,)\n",
      "(5,)\n",
      "(5,)\n",
      "(5,)\n",
      "(5,)\n",
      "(5,)\n",
      "(5,)\n",
      "(5,)\n",
      "(5,)\n",
      "(5,)\n",
      "(5,)\n",
      "(5,)\n",
      "(5,)\n",
      "(5,)\n",
      "(5,)\n",
      "(5,)\n",
      "(5,)\n",
      "(5,)\n",
      "(5,)\n",
      "(5,)\n",
      "(5,)\n",
      "(5,)\n",
      "(5,)\n",
      "(5,)\n",
      "(5,)\n",
      "(5,)\n",
      "(5,)\n",
      "(5,)\n",
      "(5,)\n",
      "(5,)\n",
      "(5,)\n",
      "(5,)\n",
      "(5,)\n",
      "(5,)\n",
      "(5,)\n",
      "(5,)\n",
      "(5,)\n",
      "(5,)\n",
      "(5,)\n",
      "(5,)\n",
      "(5,)\n",
      "(5,)\n",
      "(5,)\n",
      "(5,)\n",
      "(5,)\n",
      "(5,)\n",
      "(5,)\n",
      "(5,)\n",
      "(5,)\n",
      "(5,)\n",
      "(5,)\n",
      "(5,)\n",
      "(5,)\n",
      "(5,)\n",
      "(5,)\n",
      "(5,)\n",
      "(5,)\n",
      "(5,)\n",
      "(5,)\n",
      "(5,)\n",
      "(5,)\n",
      "(5,)\n",
      "(5,)\n",
      "(5,)\n",
      "(5,)\n",
      "(5,)\n",
      "(5,)\n",
      "(5,)\n",
      "(5,)\n",
      "(5,)\n",
      "(5,)\n",
      "(5,)\n",
      "(5,)\n",
      "(5,)\n",
      "(5,)\n",
      "(5,)\n",
      "(5,)\n",
      "(5,)\n",
      "(5,)\n",
      "(5,)\n"
     ]
    }
   ],
   "source": [
    "root_dir = 'A'\n",
    "\n",
    "file_list = utl.traverse_dir(root_dir)\n",
    "\n",
    "all_data = []\n",
    "for file_ in file_list[:]:\n",
    "    multitrack = pr.load(file_)\n",
    "    data_pr = multitrack.get_stacked_pianoroll()\n",
    "\n",
    "    ### 对不满1小节的结尾进行padding\n",
    "    if data_pr.shape[0]%96:\n",
    "        data_pad = np.zeros((96 - data_pr.shape[0] % 96, 128, 5))\n",
    "        data_pr = np.concatenate((data_pr, data_pad))\n",
    "\n",
    "    ### (小节x96, 128, 5) > (小节, 96, 128, 5) > (小节，96，84，5)\n",
    "    data_pr = np.reshape(data_pr, (-1,96,128,5))\n",
    "    data_pr = data_pr[:, :, 24:108, :]\n",
    "\n",
    "    bar_num = data_pr.shape[0]\n",
    "\n",
    "    ### 弄四个新条件出来，分别是bar_id [0,1,2,...,小节数-1],  bar_pos [0, 0.07, 0.12  ...],\n",
    "    ### bar_seg[1,0,0,...,0,0,1]，bar_tra_sta,[[1,0,0,0,1],[1,1,0,1,0],...]\n",
    "    bar_id = np.arange(bar_num)\n",
    "    bar_pos = np.array([round(id/bar_id[-1],2) for id in bar_id])\n",
    "    bar_seg = np.zeros(bar_num).astype(np.bool)\n",
    "    bar_seg[0]=True\n",
    "    bar_seg[-1]=True\n",
    "    bar_tra_sta = []\n",
    "    for bar in data_pr:\n",
    "        state_this_bar = [1 if np.sum(bar[:,:,i])>0 else 0 for i in range(data_pr.shape[-1])]\n",
    "        state_this_bar = np.array(state_this_bar)\n",
    "        print(state_this_bar.shape)\n",
    "        bar_tra_sta.append(state_this_bar)\n",
    "\n",
    "    bar_tra_sta = np.stack(bar_tra_sta)\n",
    "\n",
    "    song_chroma = utl.get_chroma(data_pr)"
   ]
  },
  {
   "cell_type": "code",
   "execution_count": 12,
   "metadata": {},
   "outputs": [],
   "source": [
    "data_tone = utl.get_scale_seq(song_chroma)"
   ]
  },
  {
   "cell_type": "code",
   "execution_count": 19,
   "metadata": {},
   "outputs": [],
   "source": [
    "    tone_mtx = config.TONE_MTX\n",
    "    tone_sur_all=[]\n",
    "    tone_sur_old=[]\n",
    "\n",
    "    tone_change_bar_id = []"
   ]
  },
  {
   "cell_type": "code",
   "execution_count": 21,
   "metadata": {},
   "outputs": [],
   "source": [
    "    bar_id = 0\n",
    "    bar_chroma = song_chroma[0]"
   ]
  },
  {
   "cell_type": "code",
   "execution_count": 22,
   "metadata": {},
   "outputs": [
    {
     "data": {
      "text/plain": [
       "array([[0, 0, 0, ..., 0, 0, 0],\n",
       "       [0, 0, 0, ..., 0, 0, 0],\n",
       "       [0, 0, 0, ..., 0, 0, 0],\n",
       "       ...,\n",
       "       [0, 0, 0, ..., 0, 0, 0],\n",
       "       [0, 0, 0, ..., 0, 0, 0],\n",
       "       [0, 0, 0, ..., 0, 0, 0]], dtype=uint32)"
      ]
     },
     "execution_count": 22,
     "metadata": {},
     "output_type": "execute_result"
    }
   ],
   "source": [
    "    bar_chroma"
   ]
  },
  {
   "cell_type": "code",
   "execution_count": 23,
   "metadata": {},
   "outputs": [
    {
     "ename": "NameError",
     "evalue": "name 'step' is not defined",
     "output_type": "error",
     "traceback": [
      "\u001b[1;31m---------------------------------------------------------------------------\u001b[0m",
      "\u001b[1;31mNameError\u001b[0m                                 Traceback (most recent call last)",
      "\u001b[1;32m<ipython-input-23-355dc21f7753>\u001b[0m in \u001b[0;36m<module>\u001b[1;34m()\u001b[0m\n\u001b[1;32m----> 1\u001b[1;33m \u001b[0mtone_bar\u001b[0m \u001b[1;33m=\u001b[0m \u001b[0mnp\u001b[0m\u001b[1;33m.\u001b[0m\u001b[0madd\u001b[0m\u001b[1;33m.\u001b[0m\u001b[0mreduce\u001b[0m\u001b[1;33m(\u001b[0m\u001b[1;33m[\u001b[0m\u001b[0mbar_chroma\u001b[0m\u001b[1;33m[\u001b[0m\u001b[0mi\u001b[0m\u001b[1;33m]\u001b[0m \u001b[1;32mfor\u001b[0m \u001b[0mi\u001b[0m \u001b[1;32min\u001b[0m \u001b[0mrange\u001b[0m\u001b[1;33m(\u001b[0m\u001b[0mstep\u001b[0m\u001b[1;33m)\u001b[0m\u001b[1;33m]\u001b[0m\u001b[1;33m)\u001b[0m\u001b[1;33m\u001b[0m\u001b[0m\n\u001b[0m",
      "\u001b[1;31mNameError\u001b[0m: name 'step' is not defined"
     ]
    }
   ],
   "source": [
    "tone_bar = np.add.reduce([bar_chroma[i] for i in range(step)])"
   ]
  },
  {
   "cell_type": "code",
   "execution_count": 24,
   "metadata": {},
   "outputs": [],
   "source": [
    "step = bar_chroma.shape[0]"
   ]
  },
  {
   "cell_type": "code",
   "execution_count": 25,
   "metadata": {},
   "outputs": [
    {
     "data": {
      "text/plain": [
       "96"
      ]
     },
     "execution_count": 25,
     "metadata": {},
     "output_type": "execute_result"
    }
   ],
   "source": [
    "step"
   ]
  },
  {
   "cell_type": "code",
   "execution_count": 26,
   "metadata": {},
   "outputs": [],
   "source": [
    "tone_bar = np.add.reduce([bar_chroma[i] for i in range(step)])"
   ]
  },
  {
   "cell_type": "code",
   "execution_count": 27,
   "metadata": {},
   "outputs": [
    {
     "data": {
      "text/plain": [
       "array([0, 0, 0, 0, 0, 0, 0, 0, 0, 0, 0, 0], dtype=uint32)"
      ]
     },
     "execution_count": 27,
     "metadata": {},
     "output_type": "execute_result"
    }
   ],
   "source": [
    "tone_bar"
   ]
  },
  {
   "cell_type": "code",
   "execution_count": 70,
   "metadata": {},
   "outputs": [],
   "source": [
    "bar_chroma = song_chroma[2]"
   ]
  },
  {
   "cell_type": "code",
   "execution_count": 71,
   "metadata": {},
   "outputs": [],
   "source": [
    "step = bar_chroma.shape[0]\n",
    "tone_bar = np.add.reduce([bar_chroma[i] for i in range(step)])"
   ]
  },
  {
   "cell_type": "code",
   "execution_count": 31,
   "metadata": {},
   "outputs": [
    {
     "data": {
      "text/plain": [
       "96"
      ]
     },
     "execution_count": 31,
     "metadata": {},
     "output_type": "execute_result"
    }
   ],
   "source": [
    "step"
   ]
  },
  {
   "cell_type": "code",
   "execution_count": 72,
   "metadata": {},
   "outputs": [
    {
     "data": {
      "text/plain": [
       "array([   0,    0, 3536,    0,    0, 1140,    0, 3550,    0,    0,    0,\n",
       "          0], dtype=uint32)"
      ]
     },
     "execution_count": 72,
     "metadata": {},
     "output_type": "execute_result"
    }
   ],
   "source": [
    "tone_bar"
   ]
  },
  {
   "cell_type": "code",
   "execution_count": 73,
   "metadata": {},
   "outputs": [
    {
     "data": {
      "text/plain": [
       "array([8226, 1140, 7086, 8226,    0, 8226, 1140, 7086, 4690, 3536, 8226,\n",
       "          0, 8226,    0, 8226, 4676, 3550, 4690, 4676, 7086, 3550, 4676,\n",
       "       1140, 7086], dtype=uint32)"
      ]
     },
     "execution_count": 73,
     "metadata": {},
     "output_type": "execute_result"
    }
   ],
   "source": [
    "np.array([np.sum(tone_bar[tone_mtx[tone]]) for tone in range(len(tone_mtx))])"
   ]
  },
  {
   "cell_type": "code",
   "execution_count": 74,
   "metadata": {},
   "outputs": [],
   "source": [
    "tone_bar = np.array([np.sum(tone_bar[tone_mtx[tone]]) for tone in range(len(tone_mtx))])"
   ]
  },
  {
   "cell_type": "code",
   "execution_count": 75,
   "metadata": {},
   "outputs": [],
   "source": [
    "tone_this_bar = np.where(tone_bar >= 0.05*np.sum(tone_bar))[0]"
   ]
  },
  {
   "cell_type": "code",
   "execution_count": 76,
   "metadata": {},
   "outputs": [
    {
     "data": {
      "text/plain": [
       "array([ 0,  2,  3,  5,  7, 10, 12, 14, 19, 23], dtype=int64)"
      ]
     },
     "execution_count": 76,
     "metadata": {},
     "output_type": "execute_result"
    }
   ],
   "source": [
    "tone_this_bar"
   ]
  },
  {
   "cell_type": "code",
   "execution_count": 77,
   "metadata": {},
   "outputs": [],
   "source": [
    "        if np.sum(tone_sur_old) == 0:\n",
    "            tone_sur = tone_this_bar\n",
    "        else:\n",
    "            tone_sur = np.array(list(set(tone_this_bar)&set(tone_sur_old)))\n",
    "            if np.sum(tone_sur) ==0 :\n",
    "                tone_sur = tone_this_bar\n",
    "                tone_change_bar_id.append(bar_id)"
   ]
  },
  {
   "cell_type": "code",
   "execution_count": 78,
   "metadata": {},
   "outputs": [
    {
     "data": {
      "text/plain": [
       "array([ 0, 10,  5, 14], dtype=int64)"
      ]
     },
     "execution_count": 78,
     "metadata": {},
     "output_type": "execute_result"
    }
   ],
   "source": [
    "tone_sur"
   ]
  },
  {
   "cell_type": "code",
   "execution_count": 67,
   "metadata": {},
   "outputs": [],
   "source": [
    "tone_sur_old = tone_sur\n",
    "tone_sur_all.append(tone_sur)"
   ]
  },
  {
   "cell_type": "code",
   "execution_count": 84,
   "metadata": {},
   "outputs": [
    {
     "data": {
      "text/plain": [
       "[array([ 0,  5, 10, 14, 18, 21, 22], dtype=int64)]"
      ]
     },
     "execution_count": 84,
     "metadata": {},
     "output_type": "execute_result"
    }
   ],
   "source": [
    "tone_sur_all"
   ]
  },
  {
   "cell_type": "code",
   "execution_count": null,
   "metadata": {},
   "outputs": [],
   "source": []
  }
 ],
 "metadata": {
  "kernelspec": {
   "display_name": "Python 3",
   "language": "python",
   "name": "python3"
  },
  "language_info": {
   "codemirror_mode": {
    "name": "ipython",
    "version": 3
   },
   "file_extension": ".py",
   "mimetype": "text/x-python",
   "name": "python",
   "nbconvert_exporter": "python",
   "pygments_lexer": "ipython3",
   "version": "3.7.0"
  }
 },
 "nbformat": 4,
 "nbformat_minor": 2
}
